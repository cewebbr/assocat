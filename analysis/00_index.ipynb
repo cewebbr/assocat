{
 "cells": [
  {
   "cell_type": "markdown",
   "id": "9618d4ac-0070-40dd-896a-8c86f242c33a",
   "metadata": {},
   "source": [
    "## Analysis of the paper"
   ]
  },
  {
   "cell_type": "markdown",
   "id": "249568eb-9cf1-4915-b4fa-ab6a2743d194",
   "metadata": {},
   "source": [
    "The notebooks in this folder contains all the analysis carried out for the paper \"_Applying a new category association estimator to sentiment analysis on the Web_\", by Henrique S. Xavier, Diogo Cortiz, Mateus Silvestrin, Ana Luísa Freitas, Letícia Yumi Nakao Morello, Fernanda Naomi Pantaleão, Gabriel Gaudencio do Rêgo ([arXiv:2311.05330](https://arxiv.org/abs/2311.05330))."
   ]
  },
  {
   "cell_type": "markdown",
   "id": "3303d50f-7236-4d84-88d7-a7932c616c2b",
   "metadata": {},
   "source": [
    "1. Testing the method on synthetic variables: [20_prototyping-testing-association-test.ipynb](20_prototyping-testing-association-test.ipynb)\n",
    "2. Applying the method (i.e. sampling the posterior) on annotated tweets: [25_sampling_multinomial_posteriors.ipynb](25_sampling_multinomial_posteriors.ipynb)\n",
    "3. Analysing the posteriors for the sentiment analysis: [30_analysing-posterior-samplings.ipynb](30_analysing-posterior-samplings.ipynb)\n",
    "4. Creating clustering and connections between emotions (graph plot): [35_creating_graphs.ipynb](35_creating_graphs.ipynb)"
   ]
  },
  {
   "cell_type": "code",
   "execution_count": null,
   "id": "d5d572ab-65ba-408b-ac76-f4c5f075389b",
   "metadata": {},
   "outputs": [],
   "source": []
  }
 ],
 "metadata": {
  "kernelspec": {
   "display_name": "Python 3 (ipykernel)",
   "language": "python",
   "name": "python3"
  },
  "language_info": {
   "codemirror_mode": {
    "name": "ipython",
    "version": 3
   },
   "file_extension": ".py",
   "mimetype": "text/x-python",
   "name": "python",
   "nbconvert_exporter": "python",
   "pygments_lexer": "ipython3",
   "version": "3.8.10"
  }
 },
 "nbformat": 4,
 "nbformat_minor": 5
}
