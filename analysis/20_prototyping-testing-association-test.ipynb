{
 "cells": [
  {
   "cell_type": "code",
   "execution_count": 2,
   "id": "656dbe97-c73e-4f4a-bd33-cf0bf47329df",
   "metadata": {},
   "outputs": [
    {
     "name": "stderr",
     "output_type": "stream",
     "text": [
      "WARNING (pytensor.tensor.blas): Using NumPy C-API based implementation for BLAS functions.\n"
     ]
    }
   ],
   "source": [
    "import numpy as np\n",
    "import pandas as pd\n",
    "import matplotlib.pyplot as pl\n",
    "\n",
    "import mcmc as xm\n",
    "import gensynth as gs"
   ]
  },
  {
   "cell_type": "markdown",
   "id": "37a7a548-3bf0-4c2d-af5a-c2b04b8fd007",
   "metadata": {
    "tags": []
   },
   "source": [
    "## Configuring synthetic samples"
   ]
  },
  {
   "cell_type": "markdown",
   "id": "30be47a5-1234-4924-a9e2-88b358fa55b3",
   "metadata": {},
   "source": [
    "Let us create samples with specified $\\Delta P(A, B)$ for the binary variables $A$ and $B$. For that we will recall that:\n",
    "\n",
    "$$\\Delta P(A, B) \\equiv P(A=1|B=1) - P(A=1).$$\n",
    "\n",
    "For generating the synthetic $(A, B)$ samples, we need to recall that, from the law of total probability:\n",
    "\n",
    "$$P(A=1|B=0) = \\frac{P(A=1) - P(A=1|B=1)P(B=1)}{P(B=0)}$$.\n",
    "\n",
    "When generating data with a given $\\Delta P(A,B)$, $P(A)$ and $P(B)$ will be treated as nuisance parameters. "
   ]
  },
  {
   "cell_type": "code",
   "execution_count": 3,
   "id": "f7975893-f5c7-42d5-8b9a-aae11aba5c4e",
   "metadata": {
    "tags": []
   },
   "outputs": [],
   "source": [
    "# \\Delta P(A,B), P(A), P(B), N_samples:\n",
    "settings = [(0.0, 0.7, 0.2, 50), (-0.1, 0.7, 0.2, 50), (0.1, 0.7, 0.2, 50), (0.6, 0.4, 0.2, 50), (-0.6, 0.7, 0.2, 50),\n",
    "            (0.0, 0.7, 0.2, 1000), (-0.1, 0.7, 0.2, 1000), (0.1, 0.7, 0.2, 1000), (0.6, 0.4, 0.2, 1000), (-0.6, 0.7, 0.2, 1000)]"
   ]
  },
  {
   "cell_type": "markdown",
   "id": "d85d88fb-bd05-4659-a019-6211313eb75a",
   "metadata": {},
   "source": [
    "## Basic tests"
   ]
  },
  {
   "cell_type": "code",
   "execution_count": 4,
   "id": "97762b28-578e-4c7c-921d-f99fd6f0b296",
   "metadata": {
    "tags": []
   },
   "outputs": [
    {
     "data": {
      "text/plain": [
       "0.6"
      ]
     },
     "execution_count": 4,
     "metadata": {},
     "output_type": "execute_result"
    }
   ],
   "source": [
    "# Test: result must be the same as Pa:\n",
    "Pa = 0.6\n",
    "Pb = 0.2\n",
    "b0, b1 = gs.compute_cond_probs(-0.5, Pa, Pb)\n",
    "b0 * (1 - Pb) + b1 * Pb"
   ]
  },
  {
   "cell_type": "code",
   "execution_count": 6,
   "id": "35ca0e4d-ed8c-4fa8-a62c-748cbe8f9371",
   "metadata": {
    "tags": []
   },
   "outputs": [
    {
     "name": "stdout",
     "output_type": "stream",
     "text": [
      "0.7 0.72\n",
      "0.2 0.203\n"
     ]
    }
   ],
   "source": [
    "# Check if generated P(A) and P(B) are ok:\n",
    "s = settings[5]\n",
    "a_arr, b_arr = gs.gen_sample(*s)\n",
    "print(s[1], a_arr.mean())\n",
    "print(s[2], b_arr.mean())"
   ]
  },
  {
   "cell_type": "markdown",
   "id": "bbd3f5eb-24db-4d8b-a9a4-6341cf3b5a86",
   "metadata": {
    "tags": []
   },
   "source": [
    "## Running the chains"
   ]
  },
  {
   "cell_type": "code",
   "execution_count": 7,
   "id": "02537c6f-43a1-42a3-bd3f-3e1768d8e6aa",
   "metadata": {},
   "outputs": [
    {
     "name": "stderr",
     "output_type": "stream",
     "text": [
      "Auto-assigning NUTS sampler...\n",
      "Initializing NUTS using jitter+adapt_diag...\n",
      "Multiprocess sampling (4 chains in 4 jobs)\n",
      "NUTS: [pair_probs]\n"
     ]
    },
    {
     "data": {
      "text/html": [
       "\n",
       "<style>\n",
       "    /* Turns off some styling */\n",
       "    progress {\n",
       "        /* gets rid of default border in Firefox and Opera. */\n",
       "        border: none;\n",
       "        /* Needs to be in here for Safari polyfill so background images work as expected. */\n",
       "        background-size: auto;\n",
       "    }\n",
       "    progress:not([value]), progress:not([value])::-webkit-progress-bar {\n",
       "        background: repeating-linear-gradient(45deg, #7e7e7e, #7e7e7e 10px, #5c5c5c 10px, #5c5c5c 20px);\n",
       "    }\n",
       "    .progress-bar-interrupted, .progress-bar-interrupted::-webkit-progress-bar {\n",
       "        background: #F44336;\n",
       "    }\n",
       "</style>\n"
      ],
      "text/plain": [
       "<IPython.core.display.HTML object>"
      ]
     },
     "metadata": {},
     "output_type": "display_data"
    },
    {
     "data": {
      "text/html": [
       "\n",
       "    <div>\n",
       "      <progress value='44000' class='' max='44000' style='width:300px; height:20px; vertical-align: middle;'></progress>\n",
       "      100.00% [44000/44000 00:09&lt;00:00 Sampling 4 chains, 0 divergences]\n",
       "    </div>\n",
       "    "
      ],
      "text/plain": [
       "<IPython.core.display.HTML object>"
      ]
     },
     "metadata": {},
     "output_type": "display_data"
    },
    {
     "name": "stderr",
     "output_type": "stream",
     "text": [
      "Sampling 4 chains for 1_000 tune and 10_000 draw iterations (4_000 + 40_000 draws total) took 9 seconds.\n",
      "Auto-assigning NUTS sampler...\n",
      "Initializing NUTS using jitter+adapt_diag...\n",
      "Multiprocess sampling (4 chains in 4 jobs)\n",
      "NUTS: [pair_probs]\n"
     ]
    },
    {
     "data": {
      "text/html": [
       "\n",
       "<style>\n",
       "    /* Turns off some styling */\n",
       "    progress {\n",
       "        /* gets rid of default border in Firefox and Opera. */\n",
       "        border: none;\n",
       "        /* Needs to be in here for Safari polyfill so background images work as expected. */\n",
       "        background-size: auto;\n",
       "    }\n",
       "    progress:not([value]), progress:not([value])::-webkit-progress-bar {\n",
       "        background: repeating-linear-gradient(45deg, #7e7e7e, #7e7e7e 10px, #5c5c5c 10px, #5c5c5c 20px);\n",
       "    }\n",
       "    .progress-bar-interrupted, .progress-bar-interrupted::-webkit-progress-bar {\n",
       "        background: #F44336;\n",
       "    }\n",
       "</style>\n"
      ],
      "text/plain": [
       "<IPython.core.display.HTML object>"
      ]
     },
     "metadata": {},
     "output_type": "display_data"
    },
    {
     "data": {
      "text/html": [
       "\n",
       "    <div>\n",
       "      <progress value='44000' class='' max='44000' style='width:300px; height:20px; vertical-align: middle;'></progress>\n",
       "      100.00% [44000/44000 00:08&lt;00:00 Sampling 4 chains, 0 divergences]\n",
       "    </div>\n",
       "    "
      ],
      "text/plain": [
       "<IPython.core.display.HTML object>"
      ]
     },
     "metadata": {},
     "output_type": "display_data"
    },
    {
     "name": "stderr",
     "output_type": "stream",
     "text": [
      "Sampling 4 chains for 1_000 tune and 10_000 draw iterations (4_000 + 40_000 draws total) took 8 seconds.\n",
      "Auto-assigning NUTS sampler...\n",
      "Initializing NUTS using jitter+adapt_diag...\n",
      "Multiprocess sampling (4 chains in 4 jobs)\n",
      "NUTS: [pair_probs]\n"
     ]
    },
    {
     "data": {
      "text/html": [
       "\n",
       "<style>\n",
       "    /* Turns off some styling */\n",
       "    progress {\n",
       "        /* gets rid of default border in Firefox and Opera. */\n",
       "        border: none;\n",
       "        /* Needs to be in here for Safari polyfill so background images work as expected. */\n",
       "        background-size: auto;\n",
       "    }\n",
       "    progress:not([value]), progress:not([value])::-webkit-progress-bar {\n",
       "        background: repeating-linear-gradient(45deg, #7e7e7e, #7e7e7e 10px, #5c5c5c 10px, #5c5c5c 20px);\n",
       "    }\n",
       "    .progress-bar-interrupted, .progress-bar-interrupted::-webkit-progress-bar {\n",
       "        background: #F44336;\n",
       "    }\n",
       "</style>\n"
      ],
      "text/plain": [
       "<IPython.core.display.HTML object>"
      ]
     },
     "metadata": {},
     "output_type": "display_data"
    },
    {
     "data": {
      "text/html": [
       "\n",
       "    <div>\n",
       "      <progress value='44000' class='' max='44000' style='width:300px; height:20px; vertical-align: middle;'></progress>\n",
       "      100.00% [44000/44000 00:11&lt;00:00 Sampling 4 chains, 0 divergences]\n",
       "    </div>\n",
       "    "
      ],
      "text/plain": [
       "<IPython.core.display.HTML object>"
      ]
     },
     "metadata": {},
     "output_type": "display_data"
    },
    {
     "name": "stderr",
     "output_type": "stream",
     "text": [
      "Sampling 4 chains for 1_000 tune and 10_000 draw iterations (4_000 + 40_000 draws total) took 12 seconds.\n",
      "Auto-assigning NUTS sampler...\n",
      "Initializing NUTS using jitter+adapt_diag...\n",
      "Multiprocess sampling (4 chains in 4 jobs)\n",
      "NUTS: [pair_probs]\n"
     ]
    },
    {
     "data": {
      "text/html": [
       "\n",
       "<style>\n",
       "    /* Turns off some styling */\n",
       "    progress {\n",
       "        /* gets rid of default border in Firefox and Opera. */\n",
       "        border: none;\n",
       "        /* Needs to be in here for Safari polyfill so background images work as expected. */\n",
       "        background-size: auto;\n",
       "    }\n",
       "    progress:not([value]), progress:not([value])::-webkit-progress-bar {\n",
       "        background: repeating-linear-gradient(45deg, #7e7e7e, #7e7e7e 10px, #5c5c5c 10px, #5c5c5c 20px);\n",
       "    }\n",
       "    .progress-bar-interrupted, .progress-bar-interrupted::-webkit-progress-bar {\n",
       "        background: #F44336;\n",
       "    }\n",
       "</style>\n"
      ],
      "text/plain": [
       "<IPython.core.display.HTML object>"
      ]
     },
     "metadata": {},
     "output_type": "display_data"
    },
    {
     "data": {
      "text/html": [
       "\n",
       "    <div>\n",
       "      <progress value='44000' class='' max='44000' style='width:300px; height:20px; vertical-align: middle;'></progress>\n",
       "      100.00% [44000/44000 00:13&lt;00:00 Sampling 4 chains, 0 divergences]\n",
       "    </div>\n",
       "    "
      ],
      "text/plain": [
       "<IPython.core.display.HTML object>"
      ]
     },
     "metadata": {},
     "output_type": "display_data"
    },
    {
     "name": "stderr",
     "output_type": "stream",
     "text": [
      "Sampling 4 chains for 1_000 tune and 10_000 draw iterations (4_000 + 40_000 draws total) took 13 seconds.\n",
      "Auto-assigning NUTS sampler...\n",
      "Initializing NUTS using jitter+adapt_diag...\n",
      "Multiprocess sampling (4 chains in 4 jobs)\n",
      "NUTS: [pair_probs]\n"
     ]
    },
    {
     "data": {
      "text/html": [
       "\n",
       "<style>\n",
       "    /* Turns off some styling */\n",
       "    progress {\n",
       "        /* gets rid of default border in Firefox and Opera. */\n",
       "        border: none;\n",
       "        /* Needs to be in here for Safari polyfill so background images work as expected. */\n",
       "        background-size: auto;\n",
       "    }\n",
       "    progress:not([value]), progress:not([value])::-webkit-progress-bar {\n",
       "        background: repeating-linear-gradient(45deg, #7e7e7e, #7e7e7e 10px, #5c5c5c 10px, #5c5c5c 20px);\n",
       "    }\n",
       "    .progress-bar-interrupted, .progress-bar-interrupted::-webkit-progress-bar {\n",
       "        background: #F44336;\n",
       "    }\n",
       "</style>\n"
      ],
      "text/plain": [
       "<IPython.core.display.HTML object>"
      ]
     },
     "metadata": {},
     "output_type": "display_data"
    },
    {
     "data": {
      "text/html": [
       "\n",
       "    <div>\n",
       "      <progress value='44000' class='' max='44000' style='width:300px; height:20px; vertical-align: middle;'></progress>\n",
       "      100.00% [44000/44000 00:08&lt;00:00 Sampling 4 chains, 0 divergences]\n",
       "    </div>\n",
       "    "
      ],
      "text/plain": [
       "<IPython.core.display.HTML object>"
      ]
     },
     "metadata": {},
     "output_type": "display_data"
    },
    {
     "name": "stderr",
     "output_type": "stream",
     "text": [
      "Sampling 4 chains for 1_000 tune and 10_000 draw iterations (4_000 + 40_000 draws total) took 9 seconds.\n",
      "Auto-assigning NUTS sampler...\n",
      "Initializing NUTS using jitter+adapt_diag...\n",
      "Multiprocess sampling (4 chains in 4 jobs)\n",
      "NUTS: [pair_probs]\n"
     ]
    },
    {
     "data": {
      "text/html": [
       "\n",
       "<style>\n",
       "    /* Turns off some styling */\n",
       "    progress {\n",
       "        /* gets rid of default border in Firefox and Opera. */\n",
       "        border: none;\n",
       "        /* Needs to be in here for Safari polyfill so background images work as expected. */\n",
       "        background-size: auto;\n",
       "    }\n",
       "    progress:not([value]), progress:not([value])::-webkit-progress-bar {\n",
       "        background: repeating-linear-gradient(45deg, #7e7e7e, #7e7e7e 10px, #5c5c5c 10px, #5c5c5c 20px);\n",
       "    }\n",
       "    .progress-bar-interrupted, .progress-bar-interrupted::-webkit-progress-bar {\n",
       "        background: #F44336;\n",
       "    }\n",
       "</style>\n"
      ],
      "text/plain": [
       "<IPython.core.display.HTML object>"
      ]
     },
     "metadata": {},
     "output_type": "display_data"
    },
    {
     "data": {
      "text/html": [
       "\n",
       "    <div>\n",
       "      <progress value='44000' class='' max='44000' style='width:300px; height:20px; vertical-align: middle;'></progress>\n",
       "      100.00% [44000/44000 00:09&lt;00:00 Sampling 4 chains, 0 divergences]\n",
       "    </div>\n",
       "    "
      ],
      "text/plain": [
       "<IPython.core.display.HTML object>"
      ]
     },
     "metadata": {},
     "output_type": "display_data"
    },
    {
     "name": "stderr",
     "output_type": "stream",
     "text": [
      "Sampling 4 chains for 1_000 tune and 10_000 draw iterations (4_000 + 40_000 draws total) took 9 seconds.\n",
      "Auto-assigning NUTS sampler...\n",
      "Initializing NUTS using jitter+adapt_diag...\n",
      "Multiprocess sampling (4 chains in 4 jobs)\n",
      "NUTS: [pair_probs]\n"
     ]
    },
    {
     "data": {
      "text/html": [
       "\n",
       "<style>\n",
       "    /* Turns off some styling */\n",
       "    progress {\n",
       "        /* gets rid of default border in Firefox and Opera. */\n",
       "        border: none;\n",
       "        /* Needs to be in here for Safari polyfill so background images work as expected. */\n",
       "        background-size: auto;\n",
       "    }\n",
       "    progress:not([value]), progress:not([value])::-webkit-progress-bar {\n",
       "        background: repeating-linear-gradient(45deg, #7e7e7e, #7e7e7e 10px, #5c5c5c 10px, #5c5c5c 20px);\n",
       "    }\n",
       "    .progress-bar-interrupted, .progress-bar-interrupted::-webkit-progress-bar {\n",
       "        background: #F44336;\n",
       "    }\n",
       "</style>\n"
      ],
      "text/plain": [
       "<IPython.core.display.HTML object>"
      ]
     },
     "metadata": {},
     "output_type": "display_data"
    },
    {
     "data": {
      "text/html": [
       "\n",
       "    <div>\n",
       "      <progress value='44000' class='' max='44000' style='width:300px; height:20px; vertical-align: middle;'></progress>\n",
       "      100.00% [44000/44000 00:08&lt;00:00 Sampling 4 chains, 0 divergences]\n",
       "    </div>\n",
       "    "
      ],
      "text/plain": [
       "<IPython.core.display.HTML object>"
      ]
     },
     "metadata": {},
     "output_type": "display_data"
    },
    {
     "name": "stderr",
     "output_type": "stream",
     "text": [
      "Sampling 4 chains for 1_000 tune and 10_000 draw iterations (4_000 + 40_000 draws total) took 9 seconds.\n",
      "Auto-assigning NUTS sampler...\n",
      "Initializing NUTS using jitter+adapt_diag...\n",
      "Multiprocess sampling (4 chains in 4 jobs)\n",
      "NUTS: [pair_probs]\n"
     ]
    },
    {
     "data": {
      "text/html": [
       "\n",
       "<style>\n",
       "    /* Turns off some styling */\n",
       "    progress {\n",
       "        /* gets rid of default border in Firefox and Opera. */\n",
       "        border: none;\n",
       "        /* Needs to be in here for Safari polyfill so background images work as expected. */\n",
       "        background-size: auto;\n",
       "    }\n",
       "    progress:not([value]), progress:not([value])::-webkit-progress-bar {\n",
       "        background: repeating-linear-gradient(45deg, #7e7e7e, #7e7e7e 10px, #5c5c5c 10px, #5c5c5c 20px);\n",
       "    }\n",
       "    .progress-bar-interrupted, .progress-bar-interrupted::-webkit-progress-bar {\n",
       "        background: #F44336;\n",
       "    }\n",
       "</style>\n"
      ],
      "text/plain": [
       "<IPython.core.display.HTML object>"
      ]
     },
     "metadata": {},
     "output_type": "display_data"
    },
    {
     "data": {
      "text/html": [
       "\n",
       "    <div>\n",
       "      <progress value='44000' class='' max='44000' style='width:300px; height:20px; vertical-align: middle;'></progress>\n",
       "      100.00% [44000/44000 00:10&lt;00:00 Sampling 4 chains, 0 divergences]\n",
       "    </div>\n",
       "    "
      ],
      "text/plain": [
       "<IPython.core.display.HTML object>"
      ]
     },
     "metadata": {},
     "output_type": "display_data"
    },
    {
     "name": "stderr",
     "output_type": "stream",
     "text": [
      "Sampling 4 chains for 1_000 tune and 10_000 draw iterations (4_000 + 40_000 draws total) took 11 seconds.\n",
      "Auto-assigning NUTS sampler...\n",
      "Initializing NUTS using jitter+adapt_diag...\n",
      "Multiprocess sampling (4 chains in 4 jobs)\n",
      "NUTS: [pair_probs]\n"
     ]
    },
    {
     "data": {
      "text/html": [
       "\n",
       "<style>\n",
       "    /* Turns off some styling */\n",
       "    progress {\n",
       "        /* gets rid of default border in Firefox and Opera. */\n",
       "        border: none;\n",
       "        /* Needs to be in here for Safari polyfill so background images work as expected. */\n",
       "        background-size: auto;\n",
       "    }\n",
       "    progress:not([value]), progress:not([value])::-webkit-progress-bar {\n",
       "        background: repeating-linear-gradient(45deg, #7e7e7e, #7e7e7e 10px, #5c5c5c 10px, #5c5c5c 20px);\n",
       "    }\n",
       "    .progress-bar-interrupted, .progress-bar-interrupted::-webkit-progress-bar {\n",
       "        background: #F44336;\n",
       "    }\n",
       "</style>\n"
      ],
      "text/plain": [
       "<IPython.core.display.HTML object>"
      ]
     },
     "metadata": {},
     "output_type": "display_data"
    },
    {
     "data": {
      "text/html": [
       "\n",
       "    <div>\n",
       "      <progress value='44000' class='' max='44000' style='width:300px; height:20px; vertical-align: middle;'></progress>\n",
       "      100.00% [44000/44000 00:24&lt;00:00 Sampling 4 chains, 0 divergences]\n",
       "    </div>\n",
       "    "
      ],
      "text/plain": [
       "<IPython.core.display.HTML object>"
      ]
     },
     "metadata": {},
     "output_type": "display_data"
    },
    {
     "name": "stderr",
     "output_type": "stream",
     "text": [
      "Sampling 4 chains for 1_000 tune and 10_000 draw iterations (4_000 + 40_000 draws total) took 25 seconds.\n",
      "Auto-assigning NUTS sampler...\n",
      "Initializing NUTS using jitter+adapt_diag...\n",
      "Multiprocess sampling (4 chains in 4 jobs)\n",
      "NUTS: [pair_probs]\n"
     ]
    },
    {
     "data": {
      "text/html": [
       "\n",
       "<style>\n",
       "    /* Turns off some styling */\n",
       "    progress {\n",
       "        /* gets rid of default border in Firefox and Opera. */\n",
       "        border: none;\n",
       "        /* Needs to be in here for Safari polyfill so background images work as expected. */\n",
       "        background-size: auto;\n",
       "    }\n",
       "    progress:not([value]), progress:not([value])::-webkit-progress-bar {\n",
       "        background: repeating-linear-gradient(45deg, #7e7e7e, #7e7e7e 10px, #5c5c5c 10px, #5c5c5c 20px);\n",
       "    }\n",
       "    .progress-bar-interrupted, .progress-bar-interrupted::-webkit-progress-bar {\n",
       "        background: #F44336;\n",
       "    }\n",
       "</style>\n"
      ],
      "text/plain": [
       "<IPython.core.display.HTML object>"
      ]
     },
     "metadata": {},
     "output_type": "display_data"
    },
    {
     "data": {
      "text/html": [
       "\n",
       "    <div>\n",
       "      <progress value='44000' class='' max='44000' style='width:300px; height:20px; vertical-align: middle;'></progress>\n",
       "      100.00% [44000/44000 00:08&lt;00:00 Sampling 4 chains, 0 divergences]\n",
       "    </div>\n",
       "    "
      ],
      "text/plain": [
       "<IPython.core.display.HTML object>"
      ]
     },
     "metadata": {},
     "output_type": "display_data"
    },
    {
     "name": "stderr",
     "output_type": "stream",
     "text": [
      "Sampling 4 chains for 1_000 tune and 10_000 draw iterations (4_000 + 40_000 draws total) took 9 seconds.\n"
     ]
    }
   ],
   "source": [
    "# Run chains for all cases:\n",
    "chains = []\n",
    "for s in settings:\n",
    "    # Generate sample:\n",
    "    a_arr, b_arr = gs.gen_sample(*s)\n",
    "    df = pd.DataFrame({'A': a_arr, 'B': b_arr})\n",
    "    # Create chain:\n",
    "    chain_df = xm.mcmc_sample_multinomial_pars(df, 'A', 'B')\n",
    "    # Store chain:\n",
    "    chains.append(chain_df)"
   ]
  },
  {
   "cell_type": "code",
   "execution_count": 11,
   "id": "0022e2b5-68d3-439a-aaa1-8608fad82d68",
   "metadata": {
    "tags": []
   },
   "outputs": [],
   "source": [
    "# Save chains:\n",
    "if False:\n",
    "    for i, cdf in enumerate(chains):\n",
    "        cdf.to_csv('../data/sim_chains/chain_{:02d}.csv'.format(i), index=False)"
   ]
  },
  {
   "cell_type": "markdown",
   "id": "f7a3ac9a-492e-43a2-83a8-3e12e0dc9a70",
   "metadata": {},
   "source": [
    "## Loading chains"
   ]
  },
  {
   "cell_type": "code",
   "execution_count": 15,
   "id": "2540b6bf-6dba-43b1-8dcb-a60b0158c850",
   "metadata": {
    "tags": []
   },
   "outputs": [],
   "source": [
    "# Load previously saved chains:\n",
    "if True:\n",
    "    chains = [pd.read_csv('../data/sim_chains/chain_{:02d}.csv'.format(i)) for i in range(10)]"
   ]
  },
  {
   "cell_type": "markdown",
   "id": "dbd2f736-a1e5-40e0-8049-4aa630b061e2",
   "metadata": {},
   "source": [
    "## Plot the posteriors"
   ]
  },
  {
   "cell_type": "code",
   "execution_count": 33,
   "id": "7c4c47c8-7851-4893-8b0c-d87201a276a1",
   "metadata": {
    "tags": []
   },
   "outputs": [],
   "source": [
    "# Select a subset of the chains:\n",
    "selection = [0, 1, 2, 3, 4, 5, 6, 8]\n",
    "sel_settings = [settings[i] for i in selection]\n",
    "sel_chains = [chains[i] for i in selection]"
   ]
  },
  {
   "cell_type": "code",
   "execution_count": 109,
   "id": "0373ce53-58c5-4cc5-9461-061474b7026e",
   "metadata": {
    "tags": []
   },
   "outputs": [
    {
     "name": "stderr",
     "output_type": "stream",
     "text": [
      "The PostScript backend does not support transparency; partially transparent artists will be rendered opaque.\n"
     ]
    },
    {
     "data": {
      "image/png": "[encoded data removed]",
      "text/plain": [
       "<Figure size 800x1200 with 8 Axes>"
      ]
     },
     "metadata": {},
     "output_type": "display_data"
    }
   ],
   "source": [
    "fsize = 12\n",
    "pl.figure(figsize=(8,12))\n",
    "for i in range(len(sel_settings)):\n",
    "    ax = pl.subplot(4, 2, i + 1)\n",
    "    ss = sel_settings[i]\n",
    "    # Plot:\n",
    "    sel_chains[i]['sPa'].hist(bins=100, color='0.8', grid=False, label='Posterior')\n",
    "    pl.axvline(ss[0], color='firebrick')\n",
    "    pl.axvline(0, color='0.3', linewidth=1, linestyle='--')\n",
    "    pl.xlim([-1,1])\n",
    "    pl.ylim([0,1500])\n",
    "    # Text:\n",
    "    info = 'P(A) = {}\\nP(B) = {}\\nN = {}'.format(ss[1], ss[2], ss[3])\n",
    "    pl.text(-0.92 if i != 4 else 0.4, 1400, info, va='top', fontsize=11)\n",
    "    \n",
    "    pl.text(ss[0] + (0.03 if ss[0] > 0 else -0.01), 30, \n",
    "            'True $\\Delta P = {}$'.format(ss[0]), ha='left' if ss[0] > 0 else 'right', \n",
    "            va='bottom', rotation='vertical', color='firebrick', fontsize=11)\n",
    "    # Format:\n",
    "    ax.yaxis.set_tick_params(labelsize=fsize)\n",
    "    ax.xaxis.set_tick_params(labelsize=fsize)\n",
    "    pl.xticks([-0.8, -0.4, 0.0, 0.4, 0.8])\n",
    "    pl.yticks(range(0, 1500, 250))\n",
    "    if i % 2 == 0:\n",
    "        pl.ylabel('# instances', fontsize=fsize)\n",
    "    else:\n",
    "        ax.yaxis.set_tick_params(labelleft=False)\n",
    "    if i > 5:\n",
    "        pl.xlabel('$\\Delta P(A, B)$', fontsize=fsize)\n",
    "    else:\n",
    "        ax.xaxis.set_tick_params(direction='inout', length=8)\n",
    "        ax.xaxis.set_tick_params(labelleft=False)\n",
    "    \n",
    "    \n",
    "    # Legend:\n",
    "    if i == 1:\n",
    "        pl.legend(fontsize=11, loc='upper right')\n",
    "pl.subplots_adjust(hspace=0, wspace=0)\n",
    "#pl.savefig('plots/synthetic_posteriors.eps', bbox_inches='tight')"
   ]
  },
  {
   "cell_type": "code",
   "execution_count": 113,
   "id": "5d6133f8-672b-4a07-a6fd-dd2aebe3b953",
   "metadata": {
    "tags": []
   },
   "outputs": [
    {
     "data": {
      "text/html": [
       "<div>\n",
       "<style scoped>\n",
       "    .dataframe tbody tr th:only-of-type {\n",
       "        vertical-align: middle;\n",
       "    }\n",
       "\n",
       "    .dataframe tbody tr th {\n",
       "        vertical-align: top;\n",
       "    }\n",
       "\n",
       "    .dataframe thead th {\n",
       "        text-align: right;\n",
       "    }\n",
       "</style>\n",
       "<table border=\"1\" class=\"dataframe\">\n",
       "  <thead>\n",
       "    <tr style=\"text-align: right;\">\n",
       "      <th></th>\n",
       "      <th>p00</th>\n",
       "      <th>p01</th>\n",
       "      <th>p10</th>\n",
       "      <th>p11</th>\n",
       "      <th>Pa</th>\n",
       "      <th>Pb</th>\n",
       "      <th>P(a|b)</th>\n",
       "      <th>P(a|~b)</th>\n",
       "      <th>P(b|a)</th>\n",
       "      <th>P(b|~a)</th>\n",
       "      <th>sPa</th>\n",
       "      <th>sPb</th>\n",
       "    </tr>\n",
       "  </thead>\n",
       "  <tbody>\n",
       "    <tr>\n",
       "      <th>0</th>\n",
       "      <td>0.319400</td>\n",
       "      <td>0.036805</td>\n",
       "      <td>0.536945</td>\n",
       "      <td>0.106850</td>\n",
       "      <td>0.643795</td>\n",
       "      <td>0.143655</td>\n",
       "      <td>0.743796</td>\n",
       "      <td>0.627020</td>\n",
       "      <td>0.165969</td>\n",
       "      <td>0.103325</td>\n",
       "      <td>0.100001</td>\n",
       "      <td>0.022314</td>\n",
       "    </tr>\n",
       "    <tr>\n",
       "      <th>1</th>\n",
       "      <td>0.282151</td>\n",
       "      <td>0.104136</td>\n",
       "      <td>0.503588</td>\n",
       "      <td>0.110125</td>\n",
       "      <td>0.613713</td>\n",
       "      <td>0.214261</td>\n",
       "      <td>0.513978</td>\n",
       "      <td>0.640909</td>\n",
       "      <td>0.179441</td>\n",
       "      <td>0.269581</td>\n",
       "      <td>-0.099735</td>\n",
       "      <td>-0.034820</td>\n",
       "    </tr>\n",
       "    <tr>\n",
       "      <th>2</th>\n",
       "      <td>0.412170</td>\n",
       "      <td>0.015898</td>\n",
       "      <td>0.466369</td>\n",
       "      <td>0.105562</td>\n",
       "      <td>0.571931</td>\n",
       "      <td>0.121460</td>\n",
       "      <td>0.869106</td>\n",
       "      <td>0.530846</td>\n",
       "      <td>0.184571</td>\n",
       "      <td>0.037140</td>\n",
       "      <td>0.297175</td>\n",
       "      <td>0.063111</td>\n",
       "    </tr>\n",
       "    <tr>\n",
       "      <th>3</th>\n",
       "      <td>0.257545</td>\n",
       "      <td>0.043073</td>\n",
       "      <td>0.583516</td>\n",
       "      <td>0.115866</td>\n",
       "      <td>0.699382</td>\n",
       "      <td>0.158939</td>\n",
       "      <td>0.728998</td>\n",
       "      <td>0.693785</td>\n",
       "      <td>0.165670</td>\n",
       "      <td>0.143281</td>\n",
       "      <td>0.029616</td>\n",
       "      <td>0.006730</td>\n",
       "    </tr>\n",
       "    <tr>\n",
       "      <th>4</th>\n",
       "      <td>0.324758</td>\n",
       "      <td>0.066155</td>\n",
       "      <td>0.537419</td>\n",
       "      <td>0.071667</td>\n",
       "      <td>0.609087</td>\n",
       "      <td>0.137823</td>\n",
       "      <td>0.519996</td>\n",
       "      <td>0.623328</td>\n",
       "      <td>0.117664</td>\n",
       "      <td>0.169233</td>\n",
       "      <td>-0.089090</td>\n",
       "      <td>-0.020159</td>\n",
       "    </tr>\n",
       "  </tbody>\n",
       "</table>\n",
       "</div>"
      ],
      "text/plain": [
       "        p00       p01       p10       p11        Pa        Pb    P(a|b)   \n",
       "0  0.319400  0.036805  0.536945  0.106850  0.643795  0.143655  0.743796  \\\n",
       "1  0.282151  0.104136  0.503588  0.110125  0.613713  0.214261  0.513978   \n",
       "2  0.412170  0.015898  0.466369  0.105562  0.571931  0.121460  0.869106   \n",
       "3  0.257545  0.043073  0.583516  0.115866  0.699382  0.158939  0.728998   \n",
       "4  0.324758  0.066155  0.537419  0.071667  0.609087  0.137823  0.519996   \n",
       "\n",
       "    P(a|~b)    P(b|a)   P(b|~a)       sPa       sPb  \n",
       "0  0.627020  0.165969  0.103325  0.100001  0.022314  \n",
       "1  0.640909  0.179441  0.269581 -0.099735 -0.034820  \n",
       "2  0.530846  0.184571  0.037140  0.297175  0.063111  \n",
       "3  0.693785  0.165670  0.143281  0.029616  0.006730  \n",
       "4  0.623328  0.117664  0.169233 -0.089090 -0.020159  "
      ]
     },
     "execution_count": 113,
     "metadata": {},
     "output_type": "execute_result"
    }
   ],
   "source": [
    "chain_df.head()"
   ]
  },
  {
   "cell_type": "markdown",
   "id": "fa1de4b8-ff22-434d-a7c7-ea34e1021cf8",
   "metadata": {},
   "source": [
    "## Other tests"
   ]
  },
  {
   "cell_type": "code",
   "execution_count": 119,
   "id": "14dc3451-cc92-4ca0-863e-1a652e6cc554",
   "metadata": {},
   "outputs": [
    {
     "name": "stdout",
     "output_type": "stream",
     "text": [
      "True\n",
      "True\n",
      "True\n",
      "True\n",
      "True\n",
      "True\n",
      "True\n",
      "True\n",
      "True\n",
      "True\n"
     ]
    }
   ],
   "source": [
    "# \\Delta P(A,B) is related to \\Delta P(B,A):\n",
    "for chain_df in chains:\n",
    "    print(np.isclose(chain_df['sPa'] * chain_df['Pb'] / chain_df['Pa'], chain_df['sPb']).all())"
   ]
  },
  {
   "cell_type": "code",
   "execution_count": 153,
   "id": "ece766c6-23a9-4acb-9959-a0f03c7b3313",
   "metadata": {
    "tags": []
   },
   "outputs": [
    {
     "data": {
      "text/plain": [
       "<Axes: >"
      ]
     },
     "execution_count": 153,
     "metadata": {},
     "output_type": "execute_result"
    },
    {
     "data": {
      "image/png": "[encoded data removed]",
      "text/plain": [
       "<Figure size 640x480 with 1 Axes>"
      ]
     },
     "metadata": {},
     "output_type": "display_data"
    }
   ],
   "source": [
    "chain_df = chains[1]\n",
    "edges = np.arange(-0.9, 0.5, 0.01)\n",
    "#(chain_df['sPb'] * 3.4).hist(bins=100, alpha=0.3, color='cornflowerblue', density=True)\n",
    "(chain_df['sPb'] * 1.9).hist(bins=edges, alpha=0.3, color='cornflowerblue')\n",
    "chain_df['sPa'].hist(bins=edges, alpha=0.3, color='firebrick')"
   ]
  },
  {
   "cell_type": "code",
   "execution_count": 161,
   "id": "20c63b37-cfd5-4e05-af24-36c6f6aa6c27",
   "metadata": {
    "tags": []
   },
   "outputs": [
    {
     "name": "stdout",
     "output_type": "stream",
     "text": [
      "True\n",
      "True\n",
      "True\n",
      "True\n",
      "True\n",
      "True\n",
      "True\n",
      "True\n",
      "True\n",
      "True\n"
     ]
    }
   ],
   "source": [
    "for chain_df in chains:\n",
    "    print((chain_df['sPa'] > 0.0).sum() == (chain_df['sPb'] > 0.0).sum())"
   ]
  },
  {
   "cell_type": "code",
   "execution_count": null,
   "id": "01012db3-08a0-45a0-9204-88f6fdf6d818",
   "metadata": {},
   "outputs": [],
   "source": []
  }
 ],
 "metadata": {
  "kernelspec": {
   "display_name": "Python 3 (ipykernel)",
   "language": "python",
   "name": "python3"
  },
  "language_info": {
   "codemirror_mode": {
    "name": "ipython",
    "version": 3
   },
   "file_extension": ".py",
   "mimetype": "text/x-python",
   "name": "python",
   "nbconvert_exporter": "python",
   "pygments_lexer": "ipython3",
   "version": "3.8.10"
  }
 },
 "nbformat": 4,
 "nbformat_minor": 5
}
